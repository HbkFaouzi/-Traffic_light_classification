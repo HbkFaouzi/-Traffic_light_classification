{
 "cells": [
  {
   "cell_type": "markdown",
   "metadata": {},
   "source": [
    "# Importation of libraries"
   ]
  },
  {
   "cell_type": "code",
   "execution_count": 2,
   "metadata": {},
   "outputs": [],
   "source": [
    "from tensorflow.keras.models import Sequential\n",
    "from tensorflow.keras.layers import Dense, Flatten, MaxPooling2D, Convolution2D\n",
    "from tensorflow.keras.applications.mobilenet import preprocess_input\n",
    "from tensorflow.keras.models import load_model\n",
    "\n",
    "import matplotlib.pyplot as plt\n",
    "import keras\n",
    "import pickle\n",
    "from sklearn.model_selection import train_test_split\n",
    "from sklearn.preprocessing import LabelBinarizer\n",
    "import numpy as np\n",
    "import cv2\n",
    "from silence_tensorflow import silence_tensorflow\n",
    "silence_tensorflow()\n",
    "import tensorflow as tf\n",
    "\n",
    "config = tf.compat.v1.ConfigProto()\n",
    "config.gpu_options.allow_growth = True\n",
    "sess = tf.compat.v1.Session(config=config)"
   ]
  },
  {
   "cell_type": "markdown",
   "metadata": {},
   "source": [
    "# Parameters definition"
   ]
  },
  {
   "cell_type": "code",
   "execution_count": 3,
   "metadata": {},
   "outputs": [],
   "source": [
    "num_classes = 4\n",
    "img_width = 32\n",
    "img_height = 32\n",
    "input_shape = (img_height, img_width,3)"
   ]
  },
  {
   "cell_type": "markdown",
   "metadata": {},
   "source": [
    "# Load data"
   ]
  },
  {
   "cell_type": "code",
   "execution_count": 4,
   "metadata": {},
   "outputs": [],
   "source": [
    "train_file = \"bosch_udacity_test.p\"\n",
    "test_file = \"bosch_udacity_test.p\"\n",
    "\n",
    "x_,y_ = pickle.load(open(train_file, \"rb\" ) )\n",
    "random_state = 130\n",
    "X_train, x_validation, y_train, y_validation = train_test_split(x_, y_, train_size = 0.80,\n",
    "                                                                    test_size = 0.2,\n",
    "                                                                    random_state = random_state)"
   ]
  },
  {
   "cell_type": "markdown",
   "metadata": {},
   "source": [
    "# Preprocess data"
   ]
  },
  {
   "cell_type": "code",
   "execution_count": 5,
   "metadata": {},
   "outputs": [],
   "source": [
    "X_normalized = np.array(X_train / 255.0 - 0.5 )\n",
    "label_binarizer = LabelBinarizer()\n",
    "y_one_hot = label_binarizer.fit_transform(y_train)"
   ]
  },
  {
   "cell_type": "markdown",
   "metadata": {},
   "source": [
    "# Define the model"
   ]
  },
  {
   "cell_type": "code",
   "execution_count": 6,
   "metadata": {},
   "outputs": [
    {
     "name": "stdout",
     "output_type": "stream",
     "text": [
      "Model: \"sequential\"\n",
      "_________________________________________________________________\n",
      "Layer (type)                 Output Shape              Param #   \n",
      "=================================================================\n",
      "conv2d (Conv2D)              (None, 30, 30, 32)        896       \n",
      "_________________________________________________________________\n",
      "max_pooling2d (MaxPooling2D) (None, 15, 15, 32)        0         \n",
      "_________________________________________________________________\n",
      "conv2d_1 (Conv2D)            (None, 13, 13, 64)        18496     \n",
      "_________________________________________________________________\n",
      "max_pooling2d_1 (MaxPooling2 (None, 6, 6, 64)          0         \n",
      "_________________________________________________________________\n",
      "conv2d_2 (Conv2D)            (None, 4, 4, 128)         73856     \n",
      "_________________________________________________________________\n",
      "max_pooling2d_2 (MaxPooling2 (None, 2, 2, 128)         0         \n",
      "_________________________________________________________________\n",
      "flatten (Flatten)            (None, 512)               0         \n",
      "_________________________________________________________________\n",
      "dense (Dense)                (None, 4)                 2052      \n",
      "=================================================================\n",
      "Total params: 95,300\n",
      "Trainable params: 95,300\n",
      "Non-trainable params: 0\n",
      "_________________________________________________________________\n"
     ]
    }
   ],
   "source": [
    "path_checkpoint = 'model_traffic_light_classifier.h5'\n",
    "callback = keras.callbacks.EarlyStopping(monitor='loss', patience=2)\n",
    "modelckpt_callback = keras.callbacks.ModelCheckpoint(monitor=\"val_loss\",filepath=path_checkpoint, save_weights_only=True, save_best_only=True, )\n",
    "model = Sequential()\n",
    "model.add(Convolution2D(32, (3, 3), activation='relu',input_shape=input_shape))\n",
    "model.add(MaxPooling2D((2, 2)))\n",
    "\n",
    "model.add(Convolution2D(64, (3, 3), activation='relu'))\n",
    "model.add(MaxPooling2D((2, 2)))\n",
    "\n",
    "model.add(Convolution2D(128, (3, 3), activation='relu'))\n",
    "model.add(MaxPooling2D((2, 2)))\n",
    "\n",
    "model.add(Flatten())\n",
    "model.add(Dense(num_classes, activation='softmax'))\n",
    "\n",
    "model.compile('adam', 'categorical_crossentropy', ['accuracy'])\n",
    "\n",
    "\n",
    "model.summary()"
   ]
  },
  {
   "cell_type": "markdown",
   "metadata": {},
   "source": [
    "# Plot model"
   ]
  },
  {
   "cell_type": "code",
   "execution_count": 7,
   "metadata": {},
   "outputs": [
    {
     "data": {
      "image/png": "[encoded data removed]",
      "text/plain": [
       "<IPython.core.display.Image object>"
      ]
     },
     "execution_count": 7,
     "metadata": {},
     "output_type": "execute_result"
    }
   ],
   "source": [
    "from tensorflow.keras.utils import  plot_model\n",
    "plot_model(model, to_file='model_architecture.png')"
   ]
  },
  {
   "cell_type": "markdown",
   "metadata": {},
   "source": [
    "# Train the model"
   ]
  },
  {
   "cell_type": "code",
   "execution_count": 8,
   "metadata": {},
   "outputs": [
    {
     "name": "stdout",
     "output_type": "stream",
     "text": [
      "Train on 659 samples, validate on 165 samples\n",
      "Epoch 1/20\n",
      "659/659 [==============================] - 0s 645us/sample - loss: 0.8347 - acc: 0.7253 - val_loss: 0.4531 - val_acc: 0.8303\n",
      "Epoch 2/20\n",
      "659/659 [==============================] - 0s 487us/sample - loss: 0.3458 - acc: 0.8710 - val_loss: 0.3427 - val_acc: 0.8909\n",
      "Epoch 3/20\n",
      "659/659 [==============================] - 0s 489us/sample - loss: 0.2572 - acc: 0.9211 - val_loss: 0.2979 - val_acc: 0.8909\n",
      "Epoch 4/20\n",
      "659/659 [==============================] - 0s 478us/sample - loss: 0.2502 - acc: 0.9181 - val_loss: 0.2796 - val_acc: 0.8909\n",
      "Epoch 5/20\n",
      "659/659 [==============================] - 0s 460us/sample - loss: 0.2043 - acc: 0.9302 - val_loss: 0.2494 - val_acc: 0.9030\n",
      "Epoch 6/20\n",
      "659/659 [==============================] - 0s 462us/sample - loss: 0.1943 - acc: 0.9347 - val_loss: 0.3023 - val_acc: 0.8909\n",
      "Epoch 7/20\n",
      "659/659 [==============================] - 0s 463us/sample - loss: 0.1955 - acc: 0.9363 - val_loss: 0.2510 - val_acc: 0.8970\n",
      "Epoch 8/20\n",
      "659/659 [==============================] - 0s 468us/sample - loss: 0.1723 - acc: 0.9423 - val_loss: 0.2649 - val_acc: 0.8970\n",
      "Epoch 9/20\n",
      "659/659 [==============================] - 0s 463us/sample - loss: 0.1839 - acc: 0.9347 - val_loss: 0.3520 - val_acc: 0.8909\n",
      "Epoch 10/20\n",
      "659/659 [==============================] - 0s 451us/sample - loss: 0.1882 - acc: 0.9256 - val_loss: 0.3172 - val_acc: 0.8970\n",
      "Epoch 11/20\n",
      "659/659 [==============================] - 0s 453us/sample - loss: 0.1566 - acc: 0.9484 - val_loss: 0.2848 - val_acc: 0.8970\n",
      "Epoch 12/20\n",
      "659/659 [==============================] - 0s 451us/sample - loss: 0.1610 - acc: 0.9484 - val_loss: 0.2979 - val_acc: 0.8970\n",
      "Epoch 13/20\n",
      "659/659 [==============================] - 0s 474us/sample - loss: 0.1684 - acc: 0.9363 - val_loss: 0.3011 - val_acc: 0.9030\n",
      "Epoch 14/20\n",
      "659/659 [==============================] - 0s 469us/sample - loss: 0.1420 - acc: 0.9484 - val_loss: 0.3318 - val_acc: 0.8909\n",
      "Epoch 15/20\n",
      "659/659 [==============================] - 0s 465us/sample - loss: 0.1651 - acc: 0.9469 - val_loss: 0.2723 - val_acc: 0.9091\n",
      "Epoch 16/20\n",
      "659/659 [==============================] - 0s 454us/sample - loss: 0.1528 - acc: 0.9484 - val_loss: 0.2969 - val_acc: 0.9091\n",
      "Epoch 17/20\n",
      "659/659 [==============================] - 0s 490us/sample - loss: 0.1449 - acc: 0.9393 - val_loss: 0.3580 - val_acc: 0.8970\n",
      "Epoch 18/20\n",
      "659/659 [==============================] - 0s 469us/sample - loss: 0.1408 - acc: 0.9514 - val_loss: 0.2846 - val_acc: 0.9091\n",
      "Epoch 19/20\n",
      "659/659 [==============================] - 0s 481us/sample - loss: 0.1396 - acc: 0.9514 - val_loss: 0.3001 - val_acc: 0.8909\n",
      "Epoch 20/20\n",
      "659/659 [==============================] - 0s 456us/sample - loss: 0.1299 - acc: 0.9560 - val_loss: 0.3491 - val_acc: 0.8909\n"
     ]
    }
   ],
   "source": [
    "history = model.fit(X_normalized, y_one_hot, epochs=20, validation_split=0.2)"
   ]
  },
  {
   "cell_type": "code",
   "execution_count": 9,
   "metadata": {},
   "outputs": [],
   "source": [
    "#Save the model\n",
    "model.save('model_traffic_light_classifier.h5')"
   ]
  },
  {
   "cell_type": "code",
   "execution_count": 10,
   "metadata": {},
   "outputs": [
    {
     "data": {
      "image/png": "[encoded data removed]",
      "text/plain": [
       "<Figure size 432x288 with 1 Axes>"
      ]
     },
     "metadata": {
      "needs_background": "light"
     },
     "output_type": "display_data"
    },
    {
     "data": {
      "image/png": "[encoded data removed]",
      "text/plain": [
       "<Figure size 432x288 with 1 Axes>"
      ]
     },
     "metadata": {
      "needs_background": "light"
     },
     "output_type": "display_data"
    }
   ],
   "source": [
    "# Plot accuracy history \n",
    "plt.plot(history.history['acc'])\n",
    "plt.plot(history.history['val_acc'])\n",
    "plt.title('model accuracy')\n",
    "plt.ylabel('accuracy')\n",
    "plt.xlabel('epoch')\n",
    "plt.legend(['train', 'test'], loc='upper left')\n",
    "plt.savefig('./accuracy.png', dpi=100)\n",
    "\n",
    "plt.show()\n",
    "\n",
    "\n",
    "# Plot loss history \n",
    "plt.plot(history.history['loss'])\n",
    "plt.plot(history.history['val_loss'])\n",
    "plt.title('model loss')\n",
    "plt.ylabel('loss')\n",
    "plt.xlabel('epoch')\n",
    "plt.legend(['train', 'test'], loc='upper left')\n",
    "plt.savefig('./loss.png', dpi=100)\n",
    "plt.show()"
   ]
  },
  {
   "cell_type": "code",
   "execution_count": 11,
   "metadata": {},
   "outputs": [
    {
     "name": "stdout",
     "output_type": "stream",
     "text": [
      "\n",
      "Testing\n",
      "\n",
      "1030/1030 [==============================] - 0s 130us/sample - loss: 0.1574 - acc: 0.9495\n",
      "loss: 0.15737173321580025\n",
      "acc: 0.9495145678520203\n"
     ]
    }
   ],
   "source": [
    "X_test,y_test = pickle.load(open(test_file, \"rb\" ) )\n",
    "\n",
    "# preprocess data\n",
    "X_normalized_test = np.array(X_test / 255.0 - 0.5 )\n",
    "label_binarizer = LabelBinarizer()\n",
    "y_one_hot_test = label_binarizer.fit_transform(y_test)\n",
    "\n",
    "print(\"\\nTesting\\n\")\n",
    "\n",
    "metrics = model.evaluate(X_normalized_test, y_one_hot_test)\n",
    "for metric_i in range(len(model.metrics_names)):\n",
    "    metric_name = model.metrics_names[metric_i]\n",
    "    metric_value = metrics[metric_i]\n",
    "    print('{}: {}'.format(metric_name, metric_value))"
   ]
  },
  {
   "cell_type": "markdown",
   "metadata": {},
   "source": [
    "# Prediction results"
   ]
  },
  {
   "cell_type": "code",
   "execution_count": 12,
   "metadata": {},
   "outputs": [],
   "source": [
    "model=load_model('model_traffic_light_classifier.h5')\n",
    "\n",
    "img_test_path = \"traffic_light_green.jpg\"\n",
    "img = cv2.imread(img_test_path)\n",
    "img_resized = cv2.resize(img, (32,32), interpolation=cv2.INTER_LINEAR)\n",
    "img_ = np.expand_dims(np.array(img_resized), axis=0)\n",
    "\n",
    "states = ['red', 'yellow', 'green', 'off']\n",
    "predicted_state = model.predict_classes(img_)\n",
    "for idx in predicted_state:\n",
    "    labels = states[idx]\n",
    "    \n",
    "if labels == 'green':\n",
    "    color = (0, 255, 0)\n",
    "elif labels == 'red':\n",
    "    color = (0, 0, 255)\n",
    "elif labels == 'yellow':\n",
    "    color = (0,255,255)\n",
    "else:\n",
    "    color = (0, 0, 0)\n",
    "\n",
    "cv2.putText(img, labels, (10, 30), cv2.FONT_HERSHEY_SIMPLEX, 1, color, 2, cv2.LINE_AA)\n",
    "name = \"output_\"+labels+\".jpg\"\n",
    "result = cv2.imshow(\"output\", img)\n",
    "cv2.imwrite(name, img)\n",
    "cv2.waitKey(0)\n",
    "cv2.destroyAllWindows()"
   ]
  },
  {
   "cell_type": "code",
   "execution_count": null,
   "metadata": {},
   "outputs": [],
   "source": []
  },
  {
   "cell_type": "code",
   "execution_count": null,
   "metadata": {},
   "outputs": [],
   "source": []
  }
 ],
 "metadata": {
  "kernelspec": {
   "display_name": "Python 3",
   "language": "python",
   "name": "python3"
  },
  "language_info": {
   "codemirror_mode": {
    "name": "ipython",
    "version": 3
   },
   "file_extension": ".py",
   "mimetype": "text/x-python",
   "name": "python",
   "nbconvert_exporter": "python",
   "pygments_lexer": "ipython3",
   "version": "3.7.4"
  }
 },
 "nbformat": 4,
 "nbformat_minor": 4
}
